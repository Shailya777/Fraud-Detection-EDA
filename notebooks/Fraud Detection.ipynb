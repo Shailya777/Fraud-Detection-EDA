{
 "cells": [
  {
   "cell_type": "markdown",
   "id": "bb2e6a46-f0ba-4af7-bf4a-5f47d00bfdd0",
   "metadata": {},
   "source": [
    "# Fraud Detection\n",
    "\n",
    "EDA on a fraud detection dataset, with statistical validation and actionable business insights."
   ]
  },
  {
   "cell_type": "markdown",
   "id": "b7fc5f97-116f-448e-a8d5-7eb629c84609",
   "metadata": {},
   "source": [
    "#### 1) Importing Necessary Libraries:"
   ]
  },
  {
   "cell_type": "code",
   "execution_count": 1,
   "id": "3afe2208-fc43-46d0-8f9e-995be8328aa9",
   "metadata": {},
   "outputs": [],
   "source": [
    "import numpy as np\n",
    "import pandas as pd\n",
    "import matplotlib.pyplot as plt\n",
    "import seaborn as sns"
   ]
  },
  {
   "cell_type": "code",
   "execution_count": null,
   "id": "d424dd26-cd2f-48f9-969b-128237fffa15",
   "metadata": {},
   "outputs": [],
   "source": []
  },
  {
   "cell_type": "markdown",
   "id": "7c88bc1f-6ad9-4d50-8e88-89060f121438",
   "metadata": {},
   "source": [
    "#### 2) Data Overview:"
   ]
  },
  {
   "cell_type": "markdown",
   "id": "53b7b3d4-42aa-4adc-83b7-aa1b3c2037b7",
   "metadata": {},
   "source": [
    "##### 1) Data Loading:"
   ]
  },
  {
   "cell_type": "code",
   "execution_count": 2,
   "id": "009b8da2-fe4f-453d-88ed-dbaa590f4550",
   "metadata": {},
   "outputs": [],
   "source": [
    "df= pd.read_csv('FraudDetection_final.csv')"
   ]
  },
  {
   "cell_type": "code",
   "execution_count": 3,
   "id": "852ce85c-a65b-4e20-b8bb-32c770b8fdff",
   "metadata": {},
   "outputs": [
    {
     "data": {
      "text/html": [
       "<div>\n",
       "<style scoped>\n",
       "    .dataframe tbody tr th:only-of-type {\n",
       "        vertical-align: middle;\n",
       "    }\n",
       "\n",
       "    .dataframe tbody tr th {\n",
       "        vertical-align: top;\n",
       "    }\n",
       "\n",
       "    .dataframe thead th {\n",
       "        text-align: right;\n",
       "    }\n",
       "</style>\n",
       "<table border=\"1\" class=\"dataframe\">\n",
       "  <thead>\n",
       "    <tr style=\"text-align: right;\">\n",
       "      <th></th>\n",
       "      <th>transaction_id</th>\n",
       "      <th>customer_id</th>\n",
       "      <th>transaction_amount</th>\n",
       "      <th>transaction_type</th>\n",
       "      <th>transaction_time</th>\n",
       "      <th>device_type</th>\n",
       "      <th>location</th>\n",
       "      <th>merchant_category</th>\n",
       "      <th>account_age_days</th>\n",
       "      <th>num_prev_transactions</th>\n",
       "      <th>avg_transaction_amount</th>\n",
       "      <th>is_international</th>\n",
       "      <th>is_high_risk_country</th>\n",
       "      <th>failed_login_attempts</th>\n",
       "      <th>card_present</th>\n",
       "      <th>fraud</th>\n",
       "    </tr>\n",
       "  </thead>\n",
       "  <tbody>\n",
       "    <tr>\n",
       "      <th>0</th>\n",
       "      <td>1</td>\n",
       "      <td>4174</td>\n",
       "      <td>180.35</td>\n",
       "      <td>Online Purchase</td>\n",
       "      <td>2023-01-01 00:00:00</td>\n",
       "      <td>Mobile</td>\n",
       "      <td>Rural</td>\n",
       "      <td>Travel</td>\n",
       "      <td>1753.0</td>\n",
       "      <td>441</td>\n",
       "      <td>239.66</td>\n",
       "      <td>0</td>\n",
       "      <td>0</td>\n",
       "      <td>3.0</td>\n",
       "      <td>0</td>\n",
       "      <td>0</td>\n",
       "    </tr>\n",
       "    <tr>\n",
       "      <th>1</th>\n",
       "      <td>2</td>\n",
       "      <td>4507</td>\n",
       "      <td>105.99</td>\n",
       "      <td>ATM Withdrawal</td>\n",
       "      <td>2023-01-01 01:00:00</td>\n",
       "      <td>Desktop</td>\n",
       "      <td>Urban</td>\n",
       "      <td>Electronics</td>\n",
       "      <td>1654.0</td>\n",
       "      <td>260</td>\n",
       "      <td>75.80</td>\n",
       "      <td>0</td>\n",
       "      <td>0</td>\n",
       "      <td>2.0</td>\n",
       "      <td>0</td>\n",
       "      <td>0</td>\n",
       "    </tr>\n",
       "    <tr>\n",
       "      <th>2</th>\n",
       "      <td>3</td>\n",
       "      <td>1860</td>\n",
       "      <td>NaN</td>\n",
       "      <td>ATM Withdrawal</td>\n",
       "      <td>2023-01-01 02:00:00</td>\n",
       "      <td>Mobile</td>\n",
       "      <td>Suburban</td>\n",
       "      <td>Clothing</td>\n",
       "      <td>445.0</td>\n",
       "      <td>332</td>\n",
       "      <td>215.77</td>\n",
       "      <td>0</td>\n",
       "      <td>0</td>\n",
       "      <td>4.0</td>\n",
       "      <td>0</td>\n",
       "      <td>0</td>\n",
       "    </tr>\n",
       "    <tr>\n",
       "      <th>3</th>\n",
       "      <td>4</td>\n",
       "      <td>2294</td>\n",
       "      <td>NaN</td>\n",
       "      <td>Online Purchase</td>\n",
       "      <td>2023-01-01 03:00:00</td>\n",
       "      <td>Desktop</td>\n",
       "      <td>Urban</td>\n",
       "      <td>Electronics</td>\n",
       "      <td>348.0</td>\n",
       "      <td>231</td>\n",
       "      <td>180.20</td>\n",
       "      <td>0</td>\n",
       "      <td>0</td>\n",
       "      <td>NaN</td>\n",
       "      <td>0</td>\n",
       "      <td>0</td>\n",
       "    </tr>\n",
       "    <tr>\n",
       "      <th>4</th>\n",
       "      <td>5</td>\n",
       "      <td>2130</td>\n",
       "      <td>194.96</td>\n",
       "      <td>Online Purchase</td>\n",
       "      <td>2023-01-01 04:00:00</td>\n",
       "      <td>Mobile</td>\n",
       "      <td>Urban</td>\n",
       "      <td>Clothing</td>\n",
       "      <td>NaN</td>\n",
       "      <td>247</td>\n",
       "      <td>57.90</td>\n",
       "      <td>0</td>\n",
       "      <td>0</td>\n",
       "      <td>NaN</td>\n",
       "      <td>0</td>\n",
       "      <td>0</td>\n",
       "    </tr>\n",
       "  </tbody>\n",
       "</table>\n",
       "</div>"
      ],
      "text/plain": [
       "   transaction_id  customer_id  transaction_amount transaction_type  \\\n",
       "0               1         4174              180.35  Online Purchase   \n",
       "1               2         4507              105.99   ATM Withdrawal   \n",
       "2               3         1860                 NaN   ATM Withdrawal   \n",
       "3               4         2294                 NaN  Online Purchase   \n",
       "4               5         2130              194.96  Online Purchase   \n",
       "\n",
       "      transaction_time device_type  location merchant_category  \\\n",
       "0  2023-01-01 00:00:00      Mobile     Rural            Travel   \n",
       "1  2023-01-01 01:00:00     Desktop     Urban       Electronics   \n",
       "2  2023-01-01 02:00:00      Mobile  Suburban          Clothing   \n",
       "3  2023-01-01 03:00:00     Desktop     Urban       Electronics   \n",
       "4  2023-01-01 04:00:00      Mobile     Urban          Clothing   \n",
       "\n",
       "   account_age_days  num_prev_transactions  avg_transaction_amount  \\\n",
       "0            1753.0                    441                  239.66   \n",
       "1            1654.0                    260                   75.80   \n",
       "2             445.0                    332                  215.77   \n",
       "3             348.0                    231                  180.20   \n",
       "4               NaN                    247                   57.90   \n",
       "\n",
       "   is_international  is_high_risk_country  failed_login_attempts  \\\n",
       "0                 0                     0                    3.0   \n",
       "1                 0                     0                    2.0   \n",
       "2                 0                     0                    4.0   \n",
       "3                 0                     0                    NaN   \n",
       "4                 0                     0                    NaN   \n",
       "\n",
       "   card_present  fraud  \n",
       "0             0      0  \n",
       "1             0      0  \n",
       "2             0      0  \n",
       "3             0      0  \n",
       "4             0      0  "
      ]
     },
     "execution_count": 3,
     "metadata": {},
     "output_type": "execute_result"
    }
   ],
   "source": [
    "df.head()"
   ]
  },
  {
   "cell_type": "code",
   "execution_count": 4,
   "id": "288ce551-606f-45d6-8402-6305b90831e1",
   "metadata": {},
   "outputs": [
    {
     "data": {
      "text/html": [
       "<div>\n",
       "<style scoped>\n",
       "    .dataframe tbody tr th:only-of-type {\n",
       "        vertical-align: middle;\n",
       "    }\n",
       "\n",
       "    .dataframe tbody tr th {\n",
       "        vertical-align: top;\n",
       "    }\n",
       "\n",
       "    .dataframe thead th {\n",
       "        text-align: right;\n",
       "    }\n",
       "</style>\n",
       "<table border=\"1\" class=\"dataframe\">\n",
       "  <thead>\n",
       "    <tr style=\"text-align: right;\">\n",
       "      <th></th>\n",
       "      <th>transaction_id</th>\n",
       "      <th>customer_id</th>\n",
       "      <th>transaction_amount</th>\n",
       "      <th>transaction_type</th>\n",
       "      <th>transaction_time</th>\n",
       "      <th>device_type</th>\n",
       "      <th>location</th>\n",
       "      <th>merchant_category</th>\n",
       "      <th>account_age_days</th>\n",
       "      <th>num_prev_transactions</th>\n",
       "      <th>avg_transaction_amount</th>\n",
       "      <th>is_international</th>\n",
       "      <th>is_high_risk_country</th>\n",
       "      <th>failed_login_attempts</th>\n",
       "      <th>card_present</th>\n",
       "      <th>fraud</th>\n",
       "    </tr>\n",
       "  </thead>\n",
       "  <tbody>\n",
       "    <tr>\n",
       "      <th>7995</th>\n",
       "      <td>7996</td>\n",
       "      <td>2576</td>\n",
       "      <td>116.15</td>\n",
       "      <td>Online Purchase</td>\n",
       "      <td>2023-11-30 03:00:00</td>\n",
       "      <td>Tablet</td>\n",
       "      <td>Urban</td>\n",
       "      <td>Travel</td>\n",
       "      <td>308.0</td>\n",
       "      <td>473</td>\n",
       "      <td>34.12</td>\n",
       "      <td>0</td>\n",
       "      <td>0</td>\n",
       "      <td>2.0</td>\n",
       "      <td>0</td>\n",
       "      <td>0</td>\n",
       "    </tr>\n",
       "    <tr>\n",
       "      <th>7996</th>\n",
       "      <td>7997</td>\n",
       "      <td>1335</td>\n",
       "      <td>58.22</td>\n",
       "      <td>Online Purchase</td>\n",
       "      <td>2023-11-30 04:00:00</td>\n",
       "      <td>Mobile</td>\n",
       "      <td>Urban</td>\n",
       "      <td>NaN</td>\n",
       "      <td>803.0</td>\n",
       "      <td>195</td>\n",
       "      <td>176.79</td>\n",
       "      <td>0</td>\n",
       "      <td>0</td>\n",
       "      <td>4.0</td>\n",
       "      <td>0</td>\n",
       "      <td>0</td>\n",
       "    </tr>\n",
       "    <tr>\n",
       "      <th>7997</th>\n",
       "      <td>7998</td>\n",
       "      <td>3209</td>\n",
       "      <td>273.65</td>\n",
       "      <td>POS Purchase</td>\n",
       "      <td>2023-11-30 05:00:00</td>\n",
       "      <td>Mobile</td>\n",
       "      <td>Rural</td>\n",
       "      <td>Clothing</td>\n",
       "      <td>882.0</td>\n",
       "      <td>271</td>\n",
       "      <td>88.02</td>\n",
       "      <td>0</td>\n",
       "      <td>0</td>\n",
       "      <td>2.0</td>\n",
       "      <td>0</td>\n",
       "      <td>1</td>\n",
       "    </tr>\n",
       "    <tr>\n",
       "      <th>7998</th>\n",
       "      <td>7999</td>\n",
       "      <td>4231</td>\n",
       "      <td>201.13</td>\n",
       "      <td>Transfer</td>\n",
       "      <td>2023-11-30 06:00:00</td>\n",
       "      <td>Mobile</td>\n",
       "      <td>Urban</td>\n",
       "      <td>Clothing</td>\n",
       "      <td>1563.0</td>\n",
       "      <td>472</td>\n",
       "      <td>64.67</td>\n",
       "      <td>0</td>\n",
       "      <td>0</td>\n",
       "      <td>2.0</td>\n",
       "      <td>0</td>\n",
       "      <td>0</td>\n",
       "    </tr>\n",
       "    <tr>\n",
       "      <th>7999</th>\n",
       "      <td>8000</td>\n",
       "      <td>2497</td>\n",
       "      <td>296.15</td>\n",
       "      <td>Transfer</td>\n",
       "      <td>2023-11-30 07:00:00</td>\n",
       "      <td>Mobile</td>\n",
       "      <td>Urban</td>\n",
       "      <td>Electronics</td>\n",
       "      <td>460.0</td>\n",
       "      <td>466</td>\n",
       "      <td>43.79</td>\n",
       "      <td>0</td>\n",
       "      <td>0</td>\n",
       "      <td>NaN</td>\n",
       "      <td>0</td>\n",
       "      <td>0</td>\n",
       "    </tr>\n",
       "  </tbody>\n",
       "</table>\n",
       "</div>"
      ],
      "text/plain": [
       "      transaction_id  customer_id  transaction_amount transaction_type  \\\n",
       "7995            7996         2576              116.15  Online Purchase   \n",
       "7996            7997         1335               58.22  Online Purchase   \n",
       "7997            7998         3209              273.65     POS Purchase   \n",
       "7998            7999         4231              201.13         Transfer   \n",
       "7999            8000         2497              296.15         Transfer   \n",
       "\n",
       "         transaction_time device_type location merchant_category  \\\n",
       "7995  2023-11-30 03:00:00      Tablet    Urban            Travel   \n",
       "7996  2023-11-30 04:00:00      Mobile    Urban               NaN   \n",
       "7997  2023-11-30 05:00:00      Mobile    Rural          Clothing   \n",
       "7998  2023-11-30 06:00:00      Mobile    Urban          Clothing   \n",
       "7999  2023-11-30 07:00:00      Mobile    Urban       Electronics   \n",
       "\n",
       "      account_age_days  num_prev_transactions  avg_transaction_amount  \\\n",
       "7995             308.0                    473                   34.12   \n",
       "7996             803.0                    195                  176.79   \n",
       "7997             882.0                    271                   88.02   \n",
       "7998            1563.0                    472                   64.67   \n",
       "7999             460.0                    466                   43.79   \n",
       "\n",
       "      is_international  is_high_risk_country  failed_login_attempts  \\\n",
       "7995                 0                     0                    2.0   \n",
       "7996                 0                     0                    4.0   \n",
       "7997                 0                     0                    2.0   \n",
       "7998                 0                     0                    2.0   \n",
       "7999                 0                     0                    NaN   \n",
       "\n",
       "      card_present  fraud  \n",
       "7995             0      0  \n",
       "7996             0      0  \n",
       "7997             0      1  \n",
       "7998             0      0  \n",
       "7999             0      0  "
      ]
     },
     "execution_count": 4,
     "metadata": {},
     "output_type": "execute_result"
    }
   ],
   "source": [
    "df.tail()"
   ]
  },
  {
   "cell_type": "markdown",
   "id": "ad293db4-6204-4b47-ab2f-7a2451db6d56",
   "metadata": {},
   "source": [
    "##### 2) Data Overview:"
   ]
  },
  {
   "cell_type": "code",
   "execution_count": 5,
   "id": "d58c0d5b-790d-49a0-99f4-d35324f29953",
   "metadata": {},
   "outputs": [
    {
     "name": "stdout",
     "output_type": "stream",
     "text": [
      "<class 'pandas.core.frame.DataFrame'>\n",
      "RangeIndex: 8000 entries, 0 to 7999\n",
      "Data columns (total 16 columns):\n",
      " #   Column                  Non-Null Count  Dtype  \n",
      "---  ------                  --------------  -----  \n",
      " 0   transaction_id          8000 non-null   int64  \n",
      " 1   customer_id             8000 non-null   int64  \n",
      " 2   transaction_amount      7600 non-null   float64\n",
      " 3   transaction_type        8000 non-null   object \n",
      " 4   transaction_time        8000 non-null   object \n",
      " 5   device_type             7840 non-null   object \n",
      " 6   location                8000 non-null   object \n",
      " 7   merchant_category       7760 non-null   object \n",
      " 8   account_age_days        7360 non-null   float64\n",
      " 9   num_prev_transactions   8000 non-null   int64  \n",
      " 10  avg_transaction_amount  8000 non-null   float64\n",
      " 11  is_international        8000 non-null   int64  \n",
      " 12  is_high_risk_country    8000 non-null   int64  \n",
      " 13  failed_login_attempts   7200 non-null   float64\n",
      " 14  card_present            8000 non-null   int64  \n",
      " 15  fraud                   8000 non-null   int64  \n",
      "dtypes: float64(4), int64(7), object(5)\n",
      "memory usage: 1000.1+ KB\n"
     ]
    }
   ],
   "source": [
    "df.info()"
   ]
  },
  {
   "cell_type": "markdown",
   "id": "88673d61-a096-46e7-8154-af3b07963c39",
   "metadata": {},
   "source": [
    "As can be seen here,\n",
    "- Several Columns, 'transaction_amount', 'device_type', 'merchant_category', 'account_age_days' and 'failed_login_attempts' have some Missing Values.\n",
    "- 'transaction_time' column is stored as object datatype instead of datetime datatype."
   ]
  },
  {
   "cell_type": "code",
   "execution_count": null,
   "id": "62cac474-90fc-42bb-a051-9566c56b6afd",
   "metadata": {},
   "outputs": [],
   "source": []
  },
  {
   "cell_type": "markdown",
   "id": "11ca13b4-9d62-43c9-9f45-cf7b730062ee",
   "metadata": {},
   "source": [
    "###### Converting Transaction Time Column to Date-Time Data Type:"
   ]
  },
  {
   "cell_type": "code",
   "execution_count": 6,
   "id": "b79c15e9-9834-4ddf-a64f-b82fac1bffea",
   "metadata": {},
   "outputs": [],
   "source": [
    "df['transaction_time'] = pd.to_datetime(df['transaction_time'])"
   ]
  },
  {
   "cell_type": "code",
   "execution_count": 7,
   "id": "67418886-8aef-49df-b838-345635d39438",
   "metadata": {},
   "outputs": [
    {
     "name": "stdout",
     "output_type": "stream",
     "text": [
      "<class 'pandas.core.frame.DataFrame'>\n",
      "RangeIndex: 8000 entries, 0 to 7999\n",
      "Data columns (total 16 columns):\n",
      " #   Column                  Non-Null Count  Dtype         \n",
      "---  ------                  --------------  -----         \n",
      " 0   transaction_id          8000 non-null   int64         \n",
      " 1   customer_id             8000 non-null   int64         \n",
      " 2   transaction_amount      7600 non-null   float64       \n",
      " 3   transaction_type        8000 non-null   object        \n",
      " 4   transaction_time        8000 non-null   datetime64[ns]\n",
      " 5   device_type             7840 non-null   object        \n",
      " 6   location                8000 non-null   object        \n",
      " 7   merchant_category       7760 non-null   object        \n",
      " 8   account_age_days        7360 non-null   float64       \n",
      " 9   num_prev_transactions   8000 non-null   int64         \n",
      " 10  avg_transaction_amount  8000 non-null   float64       \n",
      " 11  is_international        8000 non-null   int64         \n",
      " 12  is_high_risk_country    8000 non-null   int64         \n",
      " 13  failed_login_attempts   7200 non-null   float64       \n",
      " 14  card_present            8000 non-null   int64         \n",
      " 15  fraud                   8000 non-null   int64         \n",
      "dtypes: datetime64[ns](1), float64(4), int64(7), object(4)\n",
      "memory usage: 1000.1+ KB\n"
     ]
    }
   ],
   "source": [
    "df.info()"
   ]
  },
  {
   "cell_type": "markdown",
   "id": "eb076f6e-abf3-4ac5-9cea-8409bd8b09d2",
   "metadata": {},
   "source": [
    "df.head()"
   ]
  },
  {
   "cell_type": "code",
   "execution_count": null,
   "id": "6fd9072d-d5c3-4fcd-abc5-d005d21247fd",
   "metadata": {},
   "outputs": [],
   "source": []
  },
  {
   "cell_type": "code",
   "execution_count": 8,
   "id": "4a1ebe74-3707-461c-8c2c-f3d8683843b4",
   "metadata": {},
   "outputs": [
    {
     "data": {
      "text/plain": [
       "(8000, 16)"
      ]
     },
     "execution_count": 8,
     "metadata": {},
     "output_type": "execute_result"
    }
   ],
   "source": [
    "df.shape"
   ]
  },
  {
   "cell_type": "markdown",
   "id": "e95324da-a073-49df-b883-1190061f9b71",
   "metadata": {},
   "source": [
    "In Data, we have\n",
    "- 16 Features (Columns) and 8000 Records.\n",
    "- Some of the Columns have Missing Values, which we will handle in next Step."
   ]
  },
  {
   "cell_type": "code",
   "execution_count": null,
   "id": "0296a68a-9cb6-4c71-a5ee-0c514b9deb52",
   "metadata": {},
   "outputs": [],
   "source": []
  },
  {
   "cell_type": "markdown",
   "id": "29650eae-7f96-426d-8bce-07f4fb0642f3",
   "metadata": {},
   "source": [
    "#### 3) Data Cleaning:"
   ]
  },
  {
   "cell_type": "markdown",
   "id": "bc9beb23-a94d-45b8-aec7-16532045cc0f",
   "metadata": {},
   "source": [
    "##### 1) handling Missing Values:"
   ]
  },
  {
   "cell_type": "code",
   "execution_count": 9,
   "id": "dd13698f-5f79-47c4-a3cf-a68f048f68f3",
   "metadata": {},
   "outputs": [
    {
     "data": {
      "text/plain": [
       "transaction_id              0\n",
       "customer_id                 0\n",
       "transaction_amount        400\n",
       "transaction_type            0\n",
       "transaction_time            0\n",
       "device_type               160\n",
       "location                    0\n",
       "merchant_category         240\n",
       "account_age_days          640\n",
       "num_prev_transactions       0\n",
       "avg_transaction_amount      0\n",
       "is_international            0\n",
       "is_high_risk_country        0\n",
       "failed_login_attempts     800\n",
       "card_present                0\n",
       "fraud                       0\n",
       "dtype: int64"
      ]
     },
     "execution_count": 9,
     "metadata": {},
     "output_type": "execute_result"
    }
   ],
   "source": [
    "# Number of Missing Values:\n",
    "\n",
    "df.isnull().sum()"
   ]
  },
  {
   "cell_type": "code",
   "execution_count": 10,
   "id": "e8a5e7b7-858c-4383-845a-fb5d206742ad",
   "metadata": {},
   "outputs": [
    {
     "data": {
      "text/plain": [
       "transaction_id             0.0\n",
       "customer_id                0.0\n",
       "transaction_amount         5.0\n",
       "transaction_type           0.0\n",
       "transaction_time           0.0\n",
       "device_type                2.0\n",
       "location                   0.0\n",
       "merchant_category          3.0\n",
       "account_age_days           8.0\n",
       "num_prev_transactions      0.0\n",
       "avg_transaction_amount     0.0\n",
       "is_international           0.0\n",
       "is_high_risk_country       0.0\n",
       "failed_login_attempts     10.0\n",
       "card_present               0.0\n",
       "fraud                      0.0\n",
       "dtype: float64"
      ]
     },
     "execution_count": 10,
     "metadata": {},
     "output_type": "execute_result"
    }
   ],
   "source": [
    "# Percentage of Missing Values:\n",
    "\n",
    "df.isnull().sum() / len(df) * 100"
   ]
  },
  {
   "cell_type": "code",
   "execution_count": null,
   "id": "93a05cb0-7e36-4dd4-a72b-f73a111cbbd8",
   "metadata": {},
   "outputs": [],
   "source": []
  },
  {
   "cell_type": "markdown",
   "id": "e85297ac-9907-4d38-b425-7d5b55b6993f",
   "metadata": {},
   "source": [
    "###### Transactrion Amount:"
   ]
  },
  {
   "cell_type": "code",
   "execution_count": 11,
   "id": "e03f396a-da2a-4dcb-9502-529b05fcd4af",
   "metadata": {},
   "outputs": [
    {
     "data": {
      "text/plain": [
       "0       180.35\n",
       "1       105.99\n",
       "2          NaN\n",
       "3          NaN\n",
       "4       194.96\n",
       "         ...  \n",
       "7995    116.15\n",
       "7996     58.22\n",
       "7997    273.65\n",
       "7998    201.13\n",
       "7999    296.15\n",
       "Name: transaction_amount, Length: 8000, dtype: float64"
      ]
     },
     "execution_count": 11,
     "metadata": {},
     "output_type": "execute_result"
    }
   ],
   "source": [
    "df['transaction_amount']"
   ]
  },
  {
   "cell_type": "code",
   "execution_count": 12,
   "id": "7e9ac7c1-4533-4310-916d-17dc2ceeb1d2",
   "metadata": {},
   "outputs": [
    {
     "data": {
      "image/png": "[encoded data removed]",
      "text/plain": [
       "<Figure size 600x400 with 1 Axes>"
      ]
     },
     "metadata": {},
     "output_type": "display_data"
    }
   ],
   "source": [
    "plt.figure(figsize= (6,4))\n",
    "sns.histplot(data= df, x= 'transaction_amount')\n",
    "plt.show()"
   ]
  },
  {
   "cell_type": "code",
   "execution_count": 13,
   "id": "cb8b42a0-de6e-4ede-b774-dfbffddea5cd",
   "metadata": {},
   "outputs": [
    {
     "data": {
      "text/plain": [
       "count    7600.000000\n",
       "mean      198.682061\n",
       "std       200.271409\n",
       "min         0.040000\n",
       "25%        58.732500\n",
       "50%       138.630000\n",
       "75%       274.302500\n",
       "max      1759.970000\n",
       "Name: transaction_amount, dtype: float64"
      ]
     },
     "execution_count": 13,
     "metadata": {},
     "output_type": "execute_result"
    }
   ],
   "source": [
    "df['transaction_amount'].describe()"
   ]
  },
  {
   "cell_type": "markdown",
   "id": "05eb4238-4c52-4edd-bd64-02872fb63ac4",
   "metadata": {},
   "source": [
    "As we can see, Transaction Amount has Right Tailed Distribution.\n",
    "Simplest method for Missing Value Imputation here would be Median Imputation.\n",
    "As we have Average Transaction Amount For Each user too, We can Use that to Fill Missing Transaction Amounts too.\n",
    "\n",
    "Strategy for Missing Value Imutation in Transaction Amount:\n",
    "- Average Transaction Amount if Available,\n",
    "- Group Median Considering Merchant Category and Device Type,\n",
    "- Global Median."
   ]
  },
  {
   "cell_type": "code",
   "execution_count": 14,
   "id": "5f0de48f-b943-4538-bc27-32bd8dfecd0c",
   "metadata": {},
   "outputs": [],
   "source": [
    "def transaction_amount_imputation(row):\n",
    "    \"\"\"\n",
    "    Imputes Missing Transaction Amount Based on:\n",
    "    1) Average Transaction Amount if available or\n",
    "    2) Group Median Considering Merchant Category and Device Type or\n",
    "    3) Global Median\n",
    "    \"\"\"\n",
    "\n",
    "    if not pd.isnull(row['transaction_amount']):\n",
    "        return row['transaction_amount']\n",
    "\n",
    "    if not pd.isnull(row['avg_transaction_amount']):\n",
    "        return row['avg_transaction_amount']\n",
    "\n",
    "    mask = (\n",
    "        (df['merchant_category'] == row['merchant_category']) &\n",
    "        (df['device_type'] == row['device_type'])\n",
    "    )\n",
    "    median_value = df.loc[mask, 'transaction_amount'].median()\n",
    "\n",
    "    if not np.isnan(median_value):\n",
    "        return median_value\n",
    "\n",
    "    return df['trasaction_amount'].median()"
   ]
  },
  {
   "cell_type": "code",
   "execution_count": 15,
   "id": "858898b1-8b6c-40a8-a065-cfe433602300",
   "metadata": {},
   "outputs": [],
   "source": [
    "df['transaction_amount'] = df.apply(transaction_amount_imputation, axis= 1)"
   ]
  },
  {
   "cell_type": "code",
   "execution_count": 16,
   "id": "75cd08aa-1df5-4f6a-ae04-a667115f9745",
   "metadata": {},
   "outputs": [
    {
     "data": {
      "text/plain": [
       "0"
      ]
     },
     "execution_count": 16,
     "metadata": {},
     "output_type": "execute_result"
    }
   ],
   "source": [
    "df['transaction_amount'].isnull().sum()"
   ]
  },
  {
   "cell_type": "code",
   "execution_count": null,
   "id": "b41ea78b-baef-409f-82b4-fc43e5359516",
   "metadata": {},
   "outputs": [],
   "source": []
  },
  {
   "cell_type": "markdown",
   "id": "67deb100-f807-45c7-9a7a-8c35e10990b8",
   "metadata": {},
   "source": [
    "###### Device Type:"
   ]
  },
  {
   "cell_type": "code",
   "execution_count": 17,
   "id": "9209ed56-09bc-4d97-9475-2727b94a070f",
   "metadata": {},
   "outputs": [
    {
     "data": {
      "text/plain": [
       "0        Mobile\n",
       "1       Desktop\n",
       "2        Mobile\n",
       "3       Desktop\n",
       "4        Mobile\n",
       "         ...   \n",
       "7995     Tablet\n",
       "7996     Mobile\n",
       "7997     Mobile\n",
       "7998     Mobile\n",
       "7999     Mobile\n",
       "Name: device_type, Length: 8000, dtype: object"
      ]
     },
     "execution_count": 17,
     "metadata": {},
     "output_type": "execute_result"
    }
   ],
   "source": [
    "df['device_type']"
   ]
  },
  {
   "cell_type": "code",
   "execution_count": 18,
   "id": "23643ada-acae-498c-91ea-2d7542c64458",
   "metadata": {},
   "outputs": [
    {
     "data": {
      "image/png": "[encoded data removed]",
      "text/plain": [
       "<Figure size 640x480 with 1 Axes>"
      ]
     },
     "metadata": {},
     "output_type": "display_data"
    }
   ],
   "source": [
    "df['device_type'].value_counts().plot(kind= 'bar')\n",
    "plt.show()"
   ]
  },
  {
   "cell_type": "markdown",
   "id": "6889c39d-fc7b-4956-8e3b-18eda6a2965e",
   "metadata": {},
   "source": [
    "As Device Type is a Categorical Feature, Simplest Way of Missing Value Imputation is Mode Imputation.\n",
    "\n",
    "Strategy For Missing Value imputation on Device Type:\n",
    "- User Level Mode,\n",
    "- Merchant Level Mode,\n",
    "- Global Mode."
   ]
  },
  {
   "cell_type": "code",
   "execution_count": 19,
   "id": "2b5f249a-b619-4302-bb1c-d6c93fb6bbf4",
   "metadata": {},
   "outputs": [],
   "source": [
    "def device_type_imputation(df):\n",
    "    \"\"\"\n",
    "    Imputes Missing Device Type Based on:\n",
    "    1) User Level Mode or,\n",
    "    2) Merchant Level Mode or,\n",
    "    3) Global Mode\n",
    "    \"\"\"\n",
    "\n",
    "    \n",
    "    user_modes = df.groupby('customer_id')['device_type'].apply(lambda x: x.mode().iloc[0] if not x.mode().empty else np.nan)\n",
    "    df['device_type'] = df['device_type'].fillna(df['customer_id'].map(user_modes.to_dict()))\n",
    "    \n",
    "    # --- Step 2: Merchant-level mode ---\n",
    "    if df['device_type'].isnull().sum() > 0:\n",
    "        merchant_modes = df.groupby('merchant_category')['device_type'].apply(lambda x: x.mode().iloc[0] if not x.mode().empty else np.nan)\n",
    "        df['device_type'] = df['device_type'].fillna(df['merchant_category'].map(merchant_modes.to_dict()))\n",
    "    \n",
    "    # --- Step 3: Global mode ---\n",
    "    if df['device_type'].isnull().sum() > 0:\n",
    "        global_mode = df['device_type'].mode()[0]\n",
    "        df['device_type'].fillna(global_mode, inplace=True)\n",
    "    \n",
    "    return df"
   ]
  },
  {
   "cell_type": "code",
   "execution_count": 20,
   "id": "7e862bd4-eba8-4361-9b75-2ae079978178",
   "metadata": {},
   "outputs": [],
   "source": [
    "df = device_type_imputation(df)"
   ]
  },
  {
   "cell_type": "code",
   "execution_count": 21,
   "id": "82a940da-2ba4-49a7-ae3b-0b664a0a4695",
   "metadata": {},
   "outputs": [
    {
     "data": {
      "text/plain": [
       "0"
      ]
     },
     "execution_count": 21,
     "metadata": {},
     "output_type": "execute_result"
    }
   ],
   "source": [
    "df['device_type'].isnull().sum()"
   ]
  },
  {
   "cell_type": "code",
   "execution_count": null,
   "id": "b102784f-4486-4b50-b938-fcf977e831f5",
   "metadata": {},
   "outputs": [],
   "source": []
  },
  {
   "cell_type": "markdown",
   "id": "c14f1e69-bc00-4573-9143-612ac1094fd2",
   "metadata": {},
   "source": [
    "###### Merchant Category:"
   ]
  },
  {
   "cell_type": "code",
   "execution_count": 22,
   "id": "9ff096e5-30d8-4269-b59a-85c901cfd755",
   "metadata": {},
   "outputs": [
    {
     "data": {
      "text/plain": [
       "0            Travel\n",
       "1       Electronics\n",
       "2          Clothing\n",
       "3       Electronics\n",
       "4          Clothing\n",
       "           ...     \n",
       "7995         Travel\n",
       "7996            NaN\n",
       "7997       Clothing\n",
       "7998       Clothing\n",
       "7999    Electronics\n",
       "Name: merchant_category, Length: 8000, dtype: object"
      ]
     },
     "execution_count": 22,
     "metadata": {},
     "output_type": "execute_result"
    }
   ],
   "source": [
    "df['merchant_category']"
   ]
  },
  {
   "cell_type": "code",
   "execution_count": 30,
   "id": "d999bb7f-281c-47ca-aabf-af834c29c6cd",
   "metadata": {},
   "outputs": [
    {
     "data": {
      "image/png": "[encoded data removed]",
      "text/plain": [
       "<Figure size 640x480 with 1 Axes>"
      ]
     },
     "metadata": {},
     "output_type": "display_data"
    }
   ],
   "source": [
    "df['merchant_category'].value_counts().plot(kind= 'bar')\n",
    "plt.show()"
   ]
  },
  {
   "cell_type": "markdown",
   "id": "9127ae0f-afac-419d-8f0d-6a0a2481af35",
   "metadata": {},
   "source": [
    "As we can see, Al Merchant Categories have almost similar number of occurances in Dataset.\n",
    "- Simplest way to Impute Missing Values here would be to Use Mode of Merchant Category or Random Imputation.\n",
    "\n",
    "Strategy used for Imputation:\n",
    "- Mode of Merchant Category based on Grouping by Location and Device Type\n",
    "- Mode based on Location\n",
    "- Random Imputation."
   ]
  },
  {
   "cell_type": "code",
   "execution_count": 39,
   "id": "116103b0-97cd-4a7f-90ce-a15b3d64c7cf",
   "metadata": {},
   "outputs": [],
   "source": [
    "def merchant_category_imputation(df):\n",
    "    \"\"\"\n",
    "    Imputes Missing Merchant Category Based on:\n",
    "    1) Mode of Merchant Category based on Grouping by Location and Device Type or\n",
    "    2) Mode based on Location or\n",
    "    3) Random Imputation.\n",
    "    \"\"\"\n",
    "\n",
    "    df = df.copy()\n",
    "\n",
    "    group_modes = df.groupby(['location','device_type'])['merchant_category'].apply(lambda x : x.mode().iloc[0] if not x.mode().empty else np.nan).to_dict()\n",
    "    df['merchant_category'] = df.apply(\n",
    "        lambda row: group_modes.get((row['location'], row['device_type']), np.nan)\n",
    "        if pd.isna(row['merchant_category']) else row['merchant_category'],\n",
    "        axis=1\n",
    "    )\n",
    "\n",
    "    if df['merchant_category'].isnull().sum() > 0:\n",
    "        location_modes = (\n",
    "            df.groupby('location')['merchant_category']\n",
    "            .apply(lambda x: x.mode().iloc[0] if not x.mode().empty else np.nan)\n",
    "        )\n",
    "        df['merchant_category'] = df['merchant_category'].fillna(\n",
    "            df['location'].map(location_modes.to_dict()))\n",
    "\n",
    "    if df['merchant_category'].isnull().sum() > 0:\n",
    "        overall_dist = df['merchant_category'].value_counts(normalize=True)\n",
    "        df['merchant_category'] = df['merchant_category'].apply(\n",
    "            lambda x: np.random.choice(overall_dist.index, p=overall_dist.values) if pd.isna(x) else x)\n",
    "\n",
    "    return df"
   ]
  },
  {
   "cell_type": "code",
   "execution_count": 42,
   "id": "0297b951-47c6-45ef-ae1d-8b7c01102413",
   "metadata": {},
   "outputs": [],
   "source": [
    "df = merchant_category_imputation(df)"
   ]
  },
  {
   "cell_type": "code",
   "execution_count": 43,
   "id": "fa021662-3c83-44a5-96d9-455181abcfc1",
   "metadata": {},
   "outputs": [
    {
     "data": {
      "text/plain": [
       "0"
      ]
     },
     "execution_count": 43,
     "metadata": {},
     "output_type": "execute_result"
    }
   ],
   "source": [
    "df['merchant_category'].isna().sum()"
   ]
  },
  {
   "cell_type": "code",
   "execution_count": null,
   "id": "295063f9-a4f2-499d-95c4-85b86404f6e2",
   "metadata": {},
   "outputs": [],
   "source": []
  },
  {
   "cell_type": "markdown",
   "id": "61637161-7635-4dd3-b1fc-6061677f9bbc",
   "metadata": {},
   "source": [
    "###### Account Age Days:"
   ]
  },
  {
   "cell_type": "code",
   "execution_count": 44,
   "id": "33d54110-2b7f-40d8-8ee4-7e1247f0fc07",
   "metadata": {},
   "outputs": [
    {
     "data": {
      "text/plain": [
       "0       1753.0\n",
       "1       1654.0\n",
       "2        445.0\n",
       "3        348.0\n",
       "4          NaN\n",
       "         ...  \n",
       "7995     308.0\n",
       "7996     803.0\n",
       "7997     882.0\n",
       "7998    1563.0\n",
       "7999     460.0\n",
       "Name: account_age_days, Length: 8000, dtype: float64"
      ]
     },
     "execution_count": 44,
     "metadata": {},
     "output_type": "execute_result"
    }
   ],
   "source": [
    "df['account_age_days']"
   ]
  },
  {
   "cell_type": "code",
   "execution_count": 45,
   "id": "1532c2f8-9af3-44be-af23-5d1512312d28",
   "metadata": {},
   "outputs": [
    {
     "data": {
      "image/png": "[encoded data removed]",
      "text/plain": [
       "<Figure size 600x400 with 1 Axes>"
      ]
     },
     "metadata": {},
     "output_type": "display_data"
    }
   ],
   "source": [
    "plt.figure(figsize= (6,4))\n",
    "sns.histplot(data= df, x= 'account_age_days')\n",
    "plt.show()"
   ]
  },
  {
   "cell_type": "markdown",
   "id": "9fa76337-5bc6-473f-af65-ab40a7fab33e",
   "metadata": {},
   "source": [
    "As Account Age Days has Uniform Distribution,\n",
    "- Simplest way for Missing Value Imputation would be Mean Imputation.\n",
    "\n",
    "Strategy for Missing Value Imputation in Account Age Days:\n",
    "- Median Based on Customer\n",
    "- Number of Previous Transaction Based Median\n",
    "- Global Median."
   ]
  },
  {
   "cell_type": "code",
   "execution_count": 51,
   "id": "dc8e6a42-44af-43cd-997c-c64ef816270c",
   "metadata": {},
   "outputs": [],
   "source": [
    "def account_age_days_imputation(df):\n",
    "    \"\"\"\n",
    "    Imputes Missing Account Age Days Based on:\n",
    "    - Median Based on Customer or\n",
    "    - Number of Previous Transaction Based Median or\n",
    "    - Global Median.\n",
    "    \"\"\"\n",
    "\n",
    "    df = df.copy()\n",
    "\n",
    "    customer_medians = df.groupby('customer_id')['account_age_days'].median()\n",
    "    df['account_age_days'] = df['account_age_days'].fillna(df['customer_id'].map(customer_medians.to_dict()))\n",
    "\n",
    "    if df['account_age_days'].isnull().sum() > 0:\n",
    "\n",
    "        # Bin customers by quartiles of previous transactions\n",
    "        df['txn_bin'] = pd.qcut(df['num_prev_transactions'], q= 4, duplicates= 'drop')\n",
    "        txn_bin_medians = df.groupby('txn_bin', observe)['account_age_days'].median()\n",
    "        df['account_age_days'] = df.apply(lambda row :  txn_bin_medians[row['txn_bin']]\n",
    "                                         if pd.isna(row['account_age_days']) else row['account_age_days'], axis= 1)\n",
    "\n",
    "        df.drop(columns= ['txn_bin'], inplace= True)\n",
    "\n",
    "    if df['account_age_days'].isnull().sum() > 0:\n",
    "        global_median = df['account_age_days'].median()\n",
    "        df['account_age_days'] = df['account_age_days'].fillna(global_median)\n",
    "\n",
    "    return df"
   ]
  },
  {
   "cell_type": "code",
   "execution_count": 52,
   "id": "495a2e3e-9005-468c-a80b-ce880c0c75b3",
   "metadata": {},
   "outputs": [
    {
     "name": "stderr",
     "output_type": "stream",
     "text": [
      "C:\\Users\\shail\\AppData\\Local\\Temp\\ipykernel_41412\\1772858330.py:16: FutureWarning: The default of observed=False is deprecated and will be changed to True in a future version of pandas. Pass observed=False to retain current behavior or observed=True to adopt the future default and silence this warning.\n",
      "  txn_bin_medians = df.groupby('txn_bin')['account_age_days'].median()\n"
     ]
    },
    {
     "data": {
      "text/html": [
       "<div>\n",
       "<style scoped>\n",
       "    .dataframe tbody tr th:only-of-type {\n",
       "        vertical-align: middle;\n",
       "    }\n",
       "\n",
       "    .dataframe tbody tr th {\n",
       "        vertical-align: top;\n",
       "    }\n",
       "\n",
       "    .dataframe thead th {\n",
       "        text-align: right;\n",
       "    }\n",
       "</style>\n",
       "<table border=\"1\" class=\"dataframe\">\n",
       "  <thead>\n",
       "    <tr style=\"text-align: right;\">\n",
       "      <th></th>\n",
       "      <th>transaction_id</th>\n",
       "      <th>customer_id</th>\n",
       "      <th>transaction_amount</th>\n",
       "      <th>transaction_type</th>\n",
       "      <th>transaction_time</th>\n",
       "      <th>device_type</th>\n",
       "      <th>location</th>\n",
       "      <th>merchant_category</th>\n",
       "      <th>account_age_days</th>\n",
       "      <th>num_prev_transactions</th>\n",
       "      <th>avg_transaction_amount</th>\n",
       "      <th>is_international</th>\n",
       "      <th>is_high_risk_country</th>\n",
       "      <th>failed_login_attempts</th>\n",
       "      <th>card_present</th>\n",
       "      <th>fraud</th>\n",
       "    </tr>\n",
       "  </thead>\n",
       "  <tbody>\n",
       "    <tr>\n",
       "      <th>0</th>\n",
       "      <td>1</td>\n",
       "      <td>4174</td>\n",
       "      <td>180.35</td>\n",
       "      <td>Online Purchase</td>\n",
       "      <td>2023-01-01 00:00:00</td>\n",
       "      <td>Mobile</td>\n",
       "      <td>Rural</td>\n",
       "      <td>Travel</td>\n",
       "      <td>1753.0</td>\n",
       "      <td>441</td>\n",
       "      <td>239.66</td>\n",
       "      <td>0</td>\n",
       "      <td>0</td>\n",
       "      <td>3.0</td>\n",
       "      <td>0</td>\n",
       "      <td>0</td>\n",
       "    </tr>\n",
       "    <tr>\n",
       "      <th>1</th>\n",
       "      <td>2</td>\n",
       "      <td>4507</td>\n",
       "      <td>105.99</td>\n",
       "      <td>ATM Withdrawal</td>\n",
       "      <td>2023-01-01 01:00:00</td>\n",
       "      <td>Desktop</td>\n",
       "      <td>Urban</td>\n",
       "      <td>Electronics</td>\n",
       "      <td>1654.0</td>\n",
       "      <td>260</td>\n",
       "      <td>75.80</td>\n",
       "      <td>0</td>\n",
       "      <td>0</td>\n",
       "      <td>2.0</td>\n",
       "      <td>0</td>\n",
       "      <td>0</td>\n",
       "    </tr>\n",
       "    <tr>\n",
       "      <th>2</th>\n",
       "      <td>3</td>\n",
       "      <td>1860</td>\n",
       "      <td>215.77</td>\n",
       "      <td>ATM Withdrawal</td>\n",
       "      <td>2023-01-01 02:00:00</td>\n",
       "      <td>Mobile</td>\n",
       "      <td>Suburban</td>\n",
       "      <td>Clothing</td>\n",
       "      <td>445.0</td>\n",
       "      <td>332</td>\n",
       "      <td>215.77</td>\n",
       "      <td>0</td>\n",
       "      <td>0</td>\n",
       "      <td>4.0</td>\n",
       "      <td>0</td>\n",
       "      <td>0</td>\n",
       "    </tr>\n",
       "    <tr>\n",
       "      <th>3</th>\n",
       "      <td>4</td>\n",
       "      <td>2294</td>\n",
       "      <td>180.20</td>\n",
       "      <td>Online Purchase</td>\n",
       "      <td>2023-01-01 03:00:00</td>\n",
       "      <td>Desktop</td>\n",
       "      <td>Urban</td>\n",
       "      <td>Electronics</td>\n",
       "      <td>348.0</td>\n",
       "      <td>231</td>\n",
       "      <td>180.20</td>\n",
       "      <td>0</td>\n",
       "      <td>0</td>\n",
       "      <td>NaN</td>\n",
       "      <td>0</td>\n",
       "      <td>0</td>\n",
       "    </tr>\n",
       "    <tr>\n",
       "      <th>4</th>\n",
       "      <td>5</td>\n",
       "      <td>2130</td>\n",
       "      <td>194.96</td>\n",
       "      <td>Online Purchase</td>\n",
       "      <td>2023-01-01 04:00:00</td>\n",
       "      <td>Mobile</td>\n",
       "      <td>Urban</td>\n",
       "      <td>Clothing</td>\n",
       "      <td>1042.5</td>\n",
       "      <td>247</td>\n",
       "      <td>57.90</td>\n",
       "      <td>0</td>\n",
       "      <td>0</td>\n",
       "      <td>NaN</td>\n",
       "      <td>0</td>\n",
       "      <td>0</td>\n",
       "    </tr>\n",
       "    <tr>\n",
       "      <th>...</th>\n",
       "      <td>...</td>\n",
       "      <td>...</td>\n",
       "      <td>...</td>\n",
       "      <td>...</td>\n",
       "      <td>...</td>\n",
       "      <td>...</td>\n",
       "      <td>...</td>\n",
       "      <td>...</td>\n",
       "      <td>...</td>\n",
       "      <td>...</td>\n",
       "      <td>...</td>\n",
       "      <td>...</td>\n",
       "      <td>...</td>\n",
       "      <td>...</td>\n",
       "      <td>...</td>\n",
       "      <td>...</td>\n",
       "    </tr>\n",
       "    <tr>\n",
       "      <th>7995</th>\n",
       "      <td>7996</td>\n",
       "      <td>2576</td>\n",
       "      <td>116.15</td>\n",
       "      <td>Online Purchase</td>\n",
       "      <td>2023-11-30 03:00:00</td>\n",
       "      <td>Tablet</td>\n",
       "      <td>Urban</td>\n",
       "      <td>Travel</td>\n",
       "      <td>308.0</td>\n",
       "      <td>473</td>\n",
       "      <td>34.12</td>\n",
       "      <td>0</td>\n",
       "      <td>0</td>\n",
       "      <td>2.0</td>\n",
       "      <td>0</td>\n",
       "      <td>0</td>\n",
       "    </tr>\n",
       "    <tr>\n",
       "      <th>7996</th>\n",
       "      <td>7997</td>\n",
       "      <td>1335</td>\n",
       "      <td>58.22</td>\n",
       "      <td>Online Purchase</td>\n",
       "      <td>2023-11-30 04:00:00</td>\n",
       "      <td>Mobile</td>\n",
       "      <td>Urban</td>\n",
       "      <td>Travel</td>\n",
       "      <td>803.0</td>\n",
       "      <td>195</td>\n",
       "      <td>176.79</td>\n",
       "      <td>0</td>\n",
       "      <td>0</td>\n",
       "      <td>4.0</td>\n",
       "      <td>0</td>\n",
       "      <td>0</td>\n",
       "    </tr>\n",
       "    <tr>\n",
       "      <th>7997</th>\n",
       "      <td>7998</td>\n",
       "      <td>3209</td>\n",
       "      <td>273.65</td>\n",
       "      <td>POS Purchase</td>\n",
       "      <td>2023-11-30 05:00:00</td>\n",
       "      <td>Mobile</td>\n",
       "      <td>Rural</td>\n",
       "      <td>Clothing</td>\n",
       "      <td>882.0</td>\n",
       "      <td>271</td>\n",
       "      <td>88.02</td>\n",
       "      <td>0</td>\n",
       "      <td>0</td>\n",
       "      <td>2.0</td>\n",
       "      <td>0</td>\n",
       "      <td>1</td>\n",
       "    </tr>\n",
       "    <tr>\n",
       "      <th>7998</th>\n",
       "      <td>7999</td>\n",
       "      <td>4231</td>\n",
       "      <td>201.13</td>\n",
       "      <td>Transfer</td>\n",
       "      <td>2023-11-30 06:00:00</td>\n",
       "      <td>Mobile</td>\n",
       "      <td>Urban</td>\n",
       "      <td>Clothing</td>\n",
       "      <td>1563.0</td>\n",
       "      <td>472</td>\n",
       "      <td>64.67</td>\n",
       "      <td>0</td>\n",
       "      <td>0</td>\n",
       "      <td>2.0</td>\n",
       "      <td>0</td>\n",
       "      <td>0</td>\n",
       "    </tr>\n",
       "    <tr>\n",
       "      <th>7999</th>\n",
       "      <td>8000</td>\n",
       "      <td>2497</td>\n",
       "      <td>296.15</td>\n",
       "      <td>Transfer</td>\n",
       "      <td>2023-11-30 07:00:00</td>\n",
       "      <td>Mobile</td>\n",
       "      <td>Urban</td>\n",
       "      <td>Electronics</td>\n",
       "      <td>460.0</td>\n",
       "      <td>466</td>\n",
       "      <td>43.79</td>\n",
       "      <td>0</td>\n",
       "      <td>0</td>\n",
       "      <td>NaN</td>\n",
       "      <td>0</td>\n",
       "      <td>0</td>\n",
       "    </tr>\n",
       "  </tbody>\n",
       "</table>\n",
       "<p>8000 rows × 16 columns</p>\n",
       "</div>"
      ],
      "text/plain": [
       "      transaction_id  customer_id  transaction_amount transaction_type  \\\n",
       "0                  1         4174              180.35  Online Purchase   \n",
       "1                  2         4507              105.99   ATM Withdrawal   \n",
       "2                  3         1860              215.77   ATM Withdrawal   \n",
       "3                  4         2294              180.20  Online Purchase   \n",
       "4                  5         2130              194.96  Online Purchase   \n",
       "...              ...          ...                 ...              ...   \n",
       "7995            7996         2576              116.15  Online Purchase   \n",
       "7996            7997         1335               58.22  Online Purchase   \n",
       "7997            7998         3209              273.65     POS Purchase   \n",
       "7998            7999         4231              201.13         Transfer   \n",
       "7999            8000         2497              296.15         Transfer   \n",
       "\n",
       "        transaction_time device_type  location merchant_category  \\\n",
       "0    2023-01-01 00:00:00      Mobile     Rural            Travel   \n",
       "1    2023-01-01 01:00:00     Desktop     Urban       Electronics   \n",
       "2    2023-01-01 02:00:00      Mobile  Suburban          Clothing   \n",
       "3    2023-01-01 03:00:00     Desktop     Urban       Electronics   \n",
       "4    2023-01-01 04:00:00      Mobile     Urban          Clothing   \n",
       "...                  ...         ...       ...               ...   \n",
       "7995 2023-11-30 03:00:00      Tablet     Urban            Travel   \n",
       "7996 2023-11-30 04:00:00      Mobile     Urban            Travel   \n",
       "7997 2023-11-30 05:00:00      Mobile     Rural          Clothing   \n",
       "7998 2023-11-30 06:00:00      Mobile     Urban          Clothing   \n",
       "7999 2023-11-30 07:00:00      Mobile     Urban       Electronics   \n",
       "\n",
       "      account_age_days  num_prev_transactions  avg_transaction_amount  \\\n",
       "0               1753.0                    441                  239.66   \n",
       "1               1654.0                    260                   75.80   \n",
       "2                445.0                    332                  215.77   \n",
       "3                348.0                    231                  180.20   \n",
       "4               1042.5                    247                   57.90   \n",
       "...                ...                    ...                     ...   \n",
       "7995             308.0                    473                   34.12   \n",
       "7996             803.0                    195                  176.79   \n",
       "7997             882.0                    271                   88.02   \n",
       "7998            1563.0                    472                   64.67   \n",
       "7999             460.0                    466                   43.79   \n",
       "\n",
       "      is_international  is_high_risk_country  failed_login_attempts  \\\n",
       "0                    0                     0                    3.0   \n",
       "1                    0                     0                    2.0   \n",
       "2                    0                     0                    4.0   \n",
       "3                    0                     0                    NaN   \n",
       "4                    0                     0                    NaN   \n",
       "...                ...                   ...                    ...   \n",
       "7995                 0                     0                    2.0   \n",
       "7996                 0                     0                    4.0   \n",
       "7997                 0                     0                    2.0   \n",
       "7998                 0                     0                    2.0   \n",
       "7999                 0                     0                    NaN   \n",
       "\n",
       "      card_present  fraud  \n",
       "0                0      0  \n",
       "1                0      0  \n",
       "2                0      0  \n",
       "3                0      0  \n",
       "4                0      0  \n",
       "...            ...    ...  \n",
       "7995             0      0  \n",
       "7996             0      0  \n",
       "7997             0      1  \n",
       "7998             0      0  \n",
       "7999             0      0  \n",
       "\n",
       "[8000 rows x 16 columns]"
      ]
     },
     "execution_count": 52,
     "metadata": {},
     "output_type": "execute_result"
    }
   ],
   "source": [
    "account_age_days_imputation(df)"
   ]
  },
  {
   "cell_type": "code",
   "execution_count": null,
   "id": "deaca961-65d7-4233-87c7-213dda44541c",
   "metadata": {},
   "outputs": [],
   "source": []
  }
 ],
 "metadata": {
  "kernelspec": {
   "display_name": "Python [conda env:base] *",
   "language": "python",
   "name": "conda-base-py"
  },
  "language_info": {
   "codemirror_mode": {
    "name": "ipython",
    "version": 3
   },
   "file_extension": ".py",
   "mimetype": "text/x-python",
   "name": "python",
   "nbconvert_exporter": "python",
   "pygments_lexer": "ipython3",
   "version": "3.11.5"
  }
 },
 "nbformat": 4,
 "nbformat_minor": 5
}
