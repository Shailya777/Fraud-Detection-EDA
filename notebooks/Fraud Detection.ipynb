{
 "cells": [
  {
   "cell_type": "markdown",
   "id": "bb2e6a46-f0ba-4af7-bf4a-5f47d00bfdd0",
   "metadata": {},
   "source": [
    "# Fraud Detection\n",
    "\n",
    "EDA on a fraud detection dataset, with statistical validation and actionable business insights."
   ]
  },
  {
   "cell_type": "code",
   "execution_count": null,
   "id": "e7afe204-a44e-43f1-873f-63169c185c5e",
   "metadata": {},
   "outputs": [],
   "source": []
  }
 ],
 "metadata": {
  "kernelspec": {
   "display_name": "Python [conda env:base] *",
   "language": "python",
   "name": "conda-base-py"
  },
  "language_info": {
   "codemirror_mode": {
    "name": "ipython",
    "version": 3
   },
   "file_extension": ".py",
   "mimetype": "text/x-python",
   "name": "python",
   "nbconvert_exporter": "python",
   "pygments_lexer": "ipython3",
   "version": "3.11.5"
  }
 },
 "nbformat": 4,
 "nbformat_minor": 5
}
